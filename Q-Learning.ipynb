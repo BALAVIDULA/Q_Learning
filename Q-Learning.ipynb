{
  "nbformat": 4,
  "nbformat_minor": 0,
  "metadata": {
    "colab": {
      "provenance": []
    },
    "kernelspec": {
      "name": "python3",
      "display_name": "Python 3"
    },
    "language_info": {
      "name": "python"
    }
  },
  "cells": [
    {
      "cell_type": "code",
      "source": [
        "import gym\n",
        "import numpy as np\n",
        "\n",
        "alpha = 0.1  # Learning rate\n",
        "gamma = 0.6  # Discount factor\n",
        "epsilon = 0.1  # Exploration rate"
      ],
      "metadata": {
        "id": "gzoNe97EhnMl"
      },
      "execution_count": null,
      "outputs": []
    },
    {
      "cell_type": "code",
      "source": [
        "# Initialize the environment\n",
        "env = gym.make(\"Taxi-v3\")\n",
        "num_episodes = 10000\n",
        "num_steps = 200"
      ],
      "metadata": {
        "colab": {
          "base_uri": "https://localhost:8080/"
        },
        "id": "bqihrrxChnKC",
        "outputId": "38b7bee1-f8b6-4716-e3b1-085bea6397f3"
      },
      "execution_count": null,
      "outputs": [
        {
          "output_type": "stream",
          "name": "stderr",
          "text": [
            "/usr/local/lib/python3.10/dist-packages/ipykernel/ipkernel.py:283: DeprecationWarning: `should_run_async` will not call `transform_cell` automatically in the future. Please pass the result to `transformed_cell` argument and any exception that happen during thetransform in `preprocessing_exc_tuple` in IPython 7.17 and above.\n",
            "  and should_run_async(code)\n",
            "/usr/local/lib/python3.10/dist-packages/gym/core.py:317: DeprecationWarning: \u001b[33mWARN: Initializing wrapper in old step API which returns one bool instead of two. It is recommended to set `new_step_api=True` to use new step API. This will be the default behaviour in future.\u001b[0m\n",
            "  deprecation(\n",
            "/usr/local/lib/python3.10/dist-packages/gym/wrappers/step_api_compatibility.py:39: DeprecationWarning: \u001b[33mWARN: Initializing environment in old step API which returns one bool instead of two. It is recommended to set `new_step_api=True` to use new step API. This will be the default behaviour in future.\u001b[0m\n",
            "  deprecation(\n"
          ]
        }
      ]
    },
    {
      "cell_type": "code",
      "source": [
        "# Initialize Q-table\n",
        "action_space_size = env.action_space.n\n",
        "state_space_size = env.observation_space.n\n",
        "q_table = np.zeros((state_space_size, action_space_size))"
      ],
      "metadata": {
        "id": "dPF2CRwwhnGC"
      },
      "execution_count": null,
      "outputs": []
    },
    {
      "cell_type": "code",
      "source": [
        "# Print initial Q-table\n",
        "print(\"Initial Q-table:\")\n",
        "print(q_table)"
      ],
      "metadata": {
        "colab": {
          "base_uri": "https://localhost:8080/"
        },
        "id": "tLnod_sJihrN",
        "outputId": "e03540e1-50fb-448e-f5cb-61bdd906e404"
      },
      "execution_count": null,
      "outputs": [
        {
          "output_type": "stream",
          "name": "stdout",
          "text": [
            "Initial Q-table:\n",
            "[[0. 0. 0. 0. 0. 0.]\n",
            " [0. 0. 0. 0. 0. 0.]\n",
            " [0. 0. 0. 0. 0. 0.]\n",
            " ...\n",
            " [0. 0. 0. 0. 0. 0.]\n",
            " [0. 0. 0. 0. 0. 0.]\n",
            " [0. 0. 0. 0. 0. 0.]]\n"
          ]
        }
      ]
    },
    {
      "cell_type": "code",
      "source": [
        "# Q-learning loop\n",
        "for episode in range(num_episodes):\n",
        "    state = env.reset()\n",
        "    done = False\n",
        "    for step in range(num_steps):\n",
        "        # Exploration-exploitation trade-off\n",
        "        if np.random.uniform(0, 1) < epsilon:\n",
        "            action = env.action_space.sample()  # Explore action space\n",
        "        else:\n",
        "            action = np.argmax(q_table[state, :])  # Exploit learned values\n",
        "\n",
        "        # Take action and observe next state, reward, and done flag\n",
        "        next_state, reward, done, _ = env.step(action)\n",
        "\n",
        "        # Update Q-table using Bellman equation\n",
        "        q_table[state, action] = (1 - alpha) * q_table[state, action] + alpha * (reward + gamma * np.max(q_table[next_state, :]))\n",
        "\n",
        "        state = next_state\n",
        "\n",
        "        if done:\n",
        "            break"
      ],
      "metadata": {
        "colab": {
          "base_uri": "https://localhost:8080/"
        },
        "id": "YiU7PGpthutr",
        "outputId": "c1ece75f-bc9d-4e42-8c98-29a3fa474b87"
      },
      "execution_count": null,
      "outputs": [
        {
          "output_type": "stream",
          "name": "stderr",
          "text": [
            "/usr/local/lib/python3.10/dist-packages/gym/utils/passive_env_checker.py:241: DeprecationWarning: `np.bool8` is a deprecated alias for `np.bool_`.  (Deprecated NumPy 1.24)\n",
            "  if not isinstance(terminated, (bool, np.bool8)):\n"
          ]
        }
      ]
    },
    {
      "cell_type": "code",
      "source": [
        "# Test the trained agent\n",
        "total_reward = 0\n",
        "num_test_episodes = 100\n",
        "for _ in range(num_test_episodes):\n",
        "    state = env.reset()\n",
        "    done = False\n",
        "    while not done:\n",
        "        action = np.argmax(q_table[state, :])\n",
        "        next_state, reward, done, _ = env.step(action)\n",
        "        total_reward += reward\n",
        "        state = next_state"
      ],
      "metadata": {
        "id": "_9WBgJtHhuqX"
      },
      "execution_count": null,
      "outputs": []
    },
    {
      "cell_type": "code",
      "source": [
        "# Calculate average reward\n",
        "average_reward = total_reward / num_test_episodes\n",
        "print(\"Average reward:\", average_reward)\n"
      ],
      "metadata": {
        "id": "gHTR0XHRXebT",
        "colab": {
          "base_uri": "https://localhost:8080/"
        },
        "outputId": "6636d1a9-fd36-428e-9cac-4a703d88571d"
      },
      "execution_count": null,
      "outputs": [
        {
          "output_type": "stream",
          "name": "stdout",
          "text": [
            "Average reward: -14.45\n"
          ]
        }
      ]
    },
    {
      "cell_type": "code",
      "source": [
        "# Print final Q-table\n",
        "print(\"\\nFinal Q-table:\")\n",
        "print(q_table)"
      ],
      "metadata": {
        "colab": {
          "base_uri": "https://localhost:8080/"
        },
        "id": "i4RLhptMirLJ",
        "outputId": "68c089a9-07e2-4b92-f1fb-89aa69f8e811"
      },
      "execution_count": null,
      "outputs": [
        {
          "output_type": "stream",
          "name": "stdout",
          "text": [
            "\n",
            "Final Q-table:\n",
            "[[ 0.00000000e+00  0.00000000e+00  0.00000000e+00  0.00000000e+00\n",
            "   0.00000000e+00  0.00000000e+00]\n",
            " [-2.35741213e+00 -2.34139538e+00 -2.39630212e+00 -2.34927495e+00\n",
            "  -2.27325184e+00 -1.00659311e+01]\n",
            " [-1.85200581e+00 -1.50978205e+00 -1.87673313e+00 -1.56308468e+00\n",
            "  -7.50400000e-01 -9.21175974e+00]\n",
            " ...\n",
            " [-1.19560465e+00 -2.05898696e-01 -1.29266962e+00 -1.18737036e+00\n",
            "  -1.90600000e+00 -1.96000000e+00]\n",
            " [-2.08516608e+00 -2.08582076e+00 -2.08362081e+00 -2.08260328e+00\n",
            "  -4.25370508e+00 -5.10734875e+00]\n",
            " [ 8.22565993e-01  2.67163969e-01 -8.38466761e-03  1.08938153e+01\n",
            "  -1.55164000e+00 -1.00000000e+00]]\n"
          ]
        }
      ]
    },
    {
      "cell_type": "code",
      "source": [
        "# Visualize the Q-values\n",
        "import matplotlib.pyplot as plt\n",
        "\n",
        "plt.figure(figsize=(10, 6))\n",
        "plt.imshow(q_table, cmap='hot', interpolation='nearest')\n",
        "plt.title('Q-Values Heatmap')\n",
        "plt.xlabel('Action')\n",
        "plt.ylabel('State')\n",
        "plt.colorbar(label='Q-Value')\n",
        "plt.show()"
      ],
      "metadata": {
        "colab": {
          "base_uri": "https://localhost:8080/",
          "height": 564
        },
        "id": "Fz69UDLXiFAB",
        "outputId": "de826028-380f-4570-acdb-2f97df5846b1"
      },
      "execution_count": null,
      "outputs": [
        {
          "output_type": "display_data",
          "data": {
            "text/plain": [
              "<Figure size 1000x600 with 2 Axes>"
            ],
            "image/png": "[encoded data removed]"
          },
          "metadata": {}
        }
      ]
    }
  ]
}